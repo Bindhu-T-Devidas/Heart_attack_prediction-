{
  "cells": [
    {
      "cell_type": "markdown",
      "metadata": {
        "id": "mECHPTMKr0yb"
      },
      "source": [
        "# Prediction of Heart Attack Using Machine Learning Algorithms and Deep Learning\n",
        "\n",
        "#### By Bindu Devidas"
      ]
    },
    {
      "cell_type": "code",
      "execution_count": 1,
      "metadata": {
        "id": "qoSfYCp2r0yf"
      },
      "outputs": [],
      "source": [
        "import pandas as pd\n",
        "import numpy as np\n",
        "from sklearn.model_selection import train_test_split\n",
        "from sklearn.metrics import accuracy_score"
      ]
    },
    {
      "cell_type": "code",
      "execution_count": 2,
      "metadata": {
        "id": "Cqd-7CnCr0yg"
      },
      "outputs": [],
      "source": [
        "data = pd.read_csv(\"/content/heart (2).csv\")"
      ]
    },
    {
      "cell_type": "markdown",
      "metadata": {
        "id": "gcTv7am-r0yg"
      },
      "source": [
        "### Decision Tree Classifier"
      ]
    },
    {
      "cell_type": "code",
      "execution_count": 3,
      "metadata": {
        "id": "9jT1Sua-r0yg"
      },
      "outputs": [],
      "source": [
        "from sklearn.tree import DecisionTreeClassifier"
      ]
    },
    {
      "cell_type": "code",
      "execution_count": 4,
      "metadata": {
        "id": "7UyX-Lz5r0yh"
      },
      "outputs": [],
      "source": [
        "X = data.drop(\"target\", axis=1) # Features are all columns except target\n",
        "y = data[\"target\"] # Target is the column named target\n",
        "\n",
        "X_train, X_test, y_train, y_test = train_test_split(X, y, test_size=0.2, random_state=7)"
      ]
    },
    {
      "cell_type": "code",
      "execution_count": 5,
      "metadata": {
        "id": "gF8oKaq2r0yh"
      },
      "outputs": [],
      "source": [
        "reg = DecisionTreeClassifier(criterion = 'entropy', random_state = 0)\n",
        "reg.fit(X_train,y_train)\n",
        "\n",
        "Y_pred = reg.predict(X_test)"
      ]
    },
    {
      "cell_type": "code",
      "execution_count": 6,
      "metadata": {
        "colab": {
          "base_uri": "https://localhost:8080/"
        },
        "id": "o6O10i9Vr0yh",
        "outputId": "2a1feb04-364e-40a4-a9e9-4e93bd8b6055"
      },
      "outputs": [
        {
          "output_type": "stream",
          "name": "stdout",
          "text": [
            "Accuracy - test set: 100.00%\n"
          ]
        }
      ],
      "source": [
        "#accuracy on test set\n",
        "accuracy = reg.score(X_test, y_test)\n",
        "print(\"Accuracy - test set: %.2f%%\" % (accuracy*100.0))"
      ]
    },
    {
      "cell_type": "markdown",
      "metadata": {
        "id": "vTOn_joTr0yi"
      },
      "source": [
        "### Random Forest Classifier"
      ]
    },
    {
      "cell_type": "code",
      "execution_count": 7,
      "metadata": {
        "id": "9i1Pw7b4r0yj"
      },
      "outputs": [],
      "source": [
        "from sklearn.ensemble import RandomForestClassifier"
      ]
    },
    {
      "cell_type": "code",
      "execution_count": 8,
      "metadata": {
        "id": "iyEqzcQ9r0yj"
      },
      "outputs": [],
      "source": [
        "X = data.drop(\"target\", axis=1) # Features are all columns except target\n",
        "y = data[\"target\"] # Target is the column named target\n",
        "\n",
        "X_train, X_test, y_train, y_test = train_test_split(X, y, test_size=0.3, random_state=5)"
      ]
    },
    {
      "cell_type": "code",
      "execution_count": 9,
      "metadata": {
        "id": "6AAc_asBr0yj"
      },
      "outputs": [],
      "source": [
        "reg = RandomForestClassifier(criterion = 'entropy', random_state = 0)\n",
        "reg.fit(X_train,y_train)\n",
        "Y_pred = reg.predict(X_test)"
      ]
    },
    {
      "cell_type": "code",
      "execution_count": 10,
      "metadata": {
        "colab": {
          "base_uri": "https://localhost:8080/"
        },
        "id": "uSmo5n1Xr0yj",
        "outputId": "d5ee5e07-ee92-47e1-b88f-fa6dc6747f44"
      },
      "outputs": [
        {
          "output_type": "stream",
          "name": "stdout",
          "text": [
            "Accuracy - test set: 100.00%\n"
          ]
        }
      ],
      "source": [
        "#accuracy on test set\n",
        "accuracy = reg.score(X_test, y_test)\n",
        "print(\"Accuracy - test set: %.2f%%\" % (accuracy*100.0))"
      ]
    },
    {
      "cell_type": "markdown",
      "metadata": {
        "id": "hae5KrdDr0yk"
      },
      "source": [
        "### Support vector machine (SVM)"
      ]
    },
    {
      "cell_type": "code",
      "execution_count": 11,
      "metadata": {
        "id": "lnIzZLe6r0yk"
      },
      "outputs": [],
      "source": [
        "from sklearn.svm import SVC"
      ]
    },
    {
      "cell_type": "code",
      "execution_count": 15,
      "metadata": {
        "id": "Fls4WFCAr0yk"
      },
      "outputs": [],
      "source": [
        "X = data.drop(\"target\", axis=1) # Features are all columns except target\n",
        "y = data[\"target\"] # Target is the column named target\n",
        "\n",
        "X_train, X_test, y_train, y_test = train_test_split(X, y, test_size=0.2, random_state=5)"
      ]
    },
    {
      "cell_type": "code",
      "execution_count": 16,
      "metadata": {
        "id": "MRELBgy6r0yk"
      },
      "outputs": [],
      "source": [
        "reg = SVC()\n",
        "reg.fit(X_train,y_train)\n",
        "Y_pred = reg.predict(X_test)"
      ]
    },
    {
      "cell_type": "code",
      "execution_count": 17,
      "metadata": {
        "colab": {
          "base_uri": "https://localhost:8080/"
        },
        "id": "vq19vhhir0yk",
        "outputId": "19c0af85-7cb2-4eba-8617-ef0d2fa95716"
      },
      "outputs": [
        {
          "output_type": "stream",
          "name": "stdout",
          "text": [
            "Accuracy - test set: 73.66%\n"
          ]
        }
      ],
      "source": [
        "#accuracy on test set\n",
        "accuracy = reg.score(X_test, y_test)\n",
        "print(\"Accuracy - test set: %.2f%%\" % (accuracy*100.0))"
      ]
    },
    {
      "cell_type": "markdown",
      "metadata": {
        "id": "hQgI8pevr0yk"
      },
      "source": [
        "### Logistic Regression"
      ]
    },
    {
      "cell_type": "code",
      "execution_count": 18,
      "metadata": {
        "id": "DI8MlAeCr0yk"
      },
      "outputs": [],
      "source": [
        "from sklearn.linear_model import LogisticRegression"
      ]
    },
    {
      "cell_type": "code",
      "execution_count": 19,
      "metadata": {
        "id": "JZUms8gPr0yk"
      },
      "outputs": [],
      "source": [
        "X = data.drop(\"target\", axis=1) # Features are all columns except target\n",
        "y = data[\"target\"] # Target is the column named target\n",
        "\n",
        "X_train, X_test, y_train, y_test = train_test_split(X, y, test_size=0.2, random_state=7)"
      ]
    },
    {
      "cell_type": "code",
      "execution_count": 20,
      "metadata": {
        "id": "ZKunnqLZr0yk"
      },
      "outputs": [],
      "source": [
        "reg = LogisticRegression(max_iter=1000, random_state=0)\n",
        "reg.fit(X_train,y_train)\n",
        "Y_pred = reg.predict(X_test)"
      ]
    },
    {
      "cell_type": "code",
      "execution_count": 21,
      "metadata": {
        "colab": {
          "base_uri": "https://localhost:8080/"
        },
        "id": "FpSv9Mm9r0yk",
        "outputId": "d53c4fe1-2ce4-4a92-b269-305f41a844c7"
      },
      "outputs": [
        {
          "output_type": "stream",
          "name": "stdout",
          "text": [
            "Accuracy - test set: 87.80%\n"
          ]
        }
      ],
      "source": [
        "#accuracy on test set\n",
        "accuracy = reg.score(X_test, y_test)\n",
        "print(\"Accuracy - test set: %.2f%%\" % (accuracy*100.0))"
      ]
    },
    {
      "cell_type": "markdown",
      "metadata": {
        "id": "c_ax-RdBr0yk"
      },
      "source": [
        "### K-Nearest Neighbour (KNN)"
      ]
    },
    {
      "cell_type": "code",
      "execution_count": 22,
      "metadata": {
        "id": "lL-hE3i9r0yk"
      },
      "outputs": [],
      "source": [
        "from sklearn.neighbors import KNeighborsClassifier"
      ]
    },
    {
      "cell_type": "code",
      "execution_count": 23,
      "metadata": {
        "id": "5YP0WN9Cr0yk"
      },
      "outputs": [],
      "source": [
        "X = data.drop(\"target\", axis=1) # Features are all columns except target\n",
        "y = data[\"target\"] # Target is the column named target\n",
        "\n",
        "X_train, X_test, y_train, y_test = train_test_split(X, y, test_size=0.2, random_state=7)"
      ]
    },
    {
      "cell_type": "code",
      "execution_count": 24,
      "metadata": {
        "id": "aSq9AFc6r0yl"
      },
      "outputs": [],
      "source": [
        "reg = KNeighborsClassifier()\n",
        "reg.fit(X_train,y_train)\n",
        "Y_pred = reg.predict(X_test)"
      ]
    },
    {
      "cell_type": "code",
      "execution_count": 25,
      "metadata": {
        "colab": {
          "base_uri": "https://localhost:8080/"
        },
        "id": "IO6SYHear0yl",
        "outputId": "9c34f318-bbce-4b46-a89f-e3c1f952b860"
      },
      "outputs": [
        {
          "output_type": "stream",
          "name": "stdout",
          "text": [
            "Accuracy - test set: 74.63%\n"
          ]
        }
      ],
      "source": [
        "#accuracy on test set\n",
        "accuracy = reg.score(X_test, y_test)\n",
        "print(\"Accuracy - test set: %.2f%%\" % (accuracy*100.0))"
      ]
    },
    {
      "cell_type": "markdown",
      "metadata": {
        "id": "VRYAPDBBr0yl"
      },
      "source": [
        "### Naive Byes"
      ]
    },
    {
      "cell_type": "code",
      "execution_count": 26,
      "metadata": {
        "id": "TbCuyrn9r0yl"
      },
      "outputs": [],
      "source": [
        "from sklearn.naive_bayes import GaussianNB"
      ]
    },
    {
      "cell_type": "code",
      "execution_count": 27,
      "metadata": {
        "id": "FAZWZoKir0yl"
      },
      "outputs": [],
      "source": [
        "X = data.drop(\"target\", axis=1) # Features are all columns except target\n",
        "y = data[\"target\"] # Target is the column named target\n",
        "\n",
        "X_train, X_test, y_train, y_test = train_test_split(X, y, test_size=0.2, random_state=7)"
      ]
    },
    {
      "cell_type": "code",
      "execution_count": 28,
      "metadata": {
        "id": "GgwOddcdr0yl"
      },
      "outputs": [],
      "source": [
        "reg = GaussianNB()\n",
        "reg.fit(X_train,y_train)\n",
        "Y_pred = reg.predict(X_test)"
      ]
    },
    {
      "cell_type": "code",
      "execution_count": 29,
      "metadata": {
        "colab": {
          "base_uri": "https://localhost:8080/"
        },
        "id": "FXX6b2VYr0yl",
        "outputId": "34c76e5f-a2d4-4f6f-a52b-e81e2d72eafe"
      },
      "outputs": [
        {
          "output_type": "stream",
          "name": "stdout",
          "text": [
            "Accuracy - test set: 84.88%\n"
          ]
        }
      ],
      "source": [
        "#accuracy on test set\n",
        "accuracy = reg.score(X_test, y_test)\n",
        "print(\"Accuracy - test set: %.2f%%\" % (accuracy*100.0))"
      ]
    },
    {
      "cell_type": "markdown",
      "metadata": {
        "id": "X5yuluNpr0yl"
      },
      "source": [
        "### Deep Neural Networks (DNN)"
      ]
    },
    {
      "cell_type": "code",
      "execution_count": 30,
      "metadata": {
        "id": "SsSiCyOQr0yl"
      },
      "outputs": [],
      "source": [
        "from keras.models import Sequential\n",
        "from keras.layers import Dense"
      ]
    },
    {
      "cell_type": "code",
      "execution_count": 31,
      "metadata": {
        "id": "y_PolZgGr0yl"
      },
      "outputs": [],
      "source": [
        "df = pd.read_csv(\"/content/heart (2).csv\")\n",
        "x=df.drop('target',axis=1)\n",
        "y=df['target']\n",
        "x_train,x_test,y_train,y_test = train_test_split(x,y,test_size=0.25,random_state=42)"
      ]
    },
    {
      "cell_type": "code",
      "execution_count": 32,
      "metadata": {
        "id": "EHrx3EH9r0yl"
      },
      "outputs": [],
      "source": [
        "model = Sequential()\n",
        "model.add(Dense(500, activation='relu', input_dim=13))\n",
        "model.add(Dense(100, activation='relu'))\n",
        "model.add(Dense(50, activation='relu'))\n",
        "model.add(Dense(1, activation='sigmoid'))\n"
      ]
    },
    {
      "cell_type": "code",
      "execution_count": 33,
      "metadata": {
        "colab": {
          "base_uri": "https://localhost:8080/"
        },
        "id": "eMoLqnROr0yl",
        "outputId": "ed6644f0-e7c2-4849-eb6d-484f77ee6926"
      },
      "outputs": [
        {
          "output_type": "stream",
          "name": "stdout",
          "text": [
            "Epoch 1/100\n",
            "24/24 [==============================] - 2s 6ms/step - loss: 3.2202 - accuracy: 0.5508\n",
            "Epoch 2/100\n",
            "24/24 [==============================] - 0s 6ms/step - loss: 0.5830 - accuracy: 0.7005\n",
            "Epoch 3/100\n",
            "24/24 [==============================] - 0s 6ms/step - loss: 0.6580 - accuracy: 0.6562\n",
            "Epoch 4/100\n",
            "24/24 [==============================] - 0s 6ms/step - loss: 0.6353 - accuracy: 0.6953\n",
            "Epoch 5/100\n",
            "24/24 [==============================] - 0s 8ms/step - loss: 0.4883 - accuracy: 0.7487\n",
            "Epoch 6/100\n",
            "24/24 [==============================] - 0s 7ms/step - loss: 0.4796 - accuracy: 0.7708\n",
            "Epoch 7/100\n",
            "24/24 [==============================] - 0s 7ms/step - loss: 0.5096 - accuracy: 0.7161\n",
            "Epoch 8/100\n",
            "24/24 [==============================] - 0s 8ms/step - loss: 0.5175 - accuracy: 0.7695\n",
            "Epoch 9/100\n",
            "24/24 [==============================] - 0s 3ms/step - loss: 0.5325 - accuracy: 0.7383\n",
            "Epoch 10/100\n",
            "24/24 [==============================] - 0s 4ms/step - loss: 0.4279 - accuracy: 0.8047\n",
            "Epoch 11/100\n",
            "24/24 [==============================] - 0s 3ms/step - loss: 0.4922 - accuracy: 0.7826\n",
            "Epoch 12/100\n",
            "24/24 [==============================] - 0s 4ms/step - loss: 0.4142 - accuracy: 0.8151\n",
            "Epoch 13/100\n",
            "24/24 [==============================] - 0s 4ms/step - loss: 0.4682 - accuracy: 0.7617\n",
            "Epoch 14/100\n",
            "24/24 [==============================] - 0s 4ms/step - loss: 0.4277 - accuracy: 0.7839\n",
            "Epoch 15/100\n",
            "24/24 [==============================] - 0s 4ms/step - loss: 0.4514 - accuracy: 0.8060\n",
            "Epoch 16/100\n",
            "24/24 [==============================] - 0s 5ms/step - loss: 0.4614 - accuracy: 0.7878\n",
            "Epoch 17/100\n",
            "24/24 [==============================] - 0s 5ms/step - loss: 0.4077 - accuracy: 0.8112\n",
            "Epoch 18/100\n",
            "24/24 [==============================] - 0s 4ms/step - loss: 0.5470 - accuracy: 0.7552\n",
            "Epoch 19/100\n",
            "24/24 [==============================] - 0s 4ms/step - loss: 0.4419 - accuracy: 0.8060\n",
            "Epoch 20/100\n",
            "24/24 [==============================] - 0s 4ms/step - loss: 0.4133 - accuracy: 0.8177\n",
            "Epoch 21/100\n",
            "24/24 [==============================] - 0s 5ms/step - loss: 0.4936 - accuracy: 0.7682\n",
            "Epoch 22/100\n",
            "24/24 [==============================] - 0s 5ms/step - loss: 0.4796 - accuracy: 0.7773\n",
            "Epoch 23/100\n",
            "24/24 [==============================] - 0s 4ms/step - loss: 0.4059 - accuracy: 0.8112\n",
            "Epoch 24/100\n",
            "24/24 [==============================] - 0s 4ms/step - loss: 0.3466 - accuracy: 0.8607\n",
            "Epoch 25/100\n",
            "24/24 [==============================] - 0s 5ms/step - loss: 0.3369 - accuracy: 0.8646\n",
            "Epoch 26/100\n",
            "24/24 [==============================] - 0s 4ms/step - loss: 0.3538 - accuracy: 0.8542\n",
            "Epoch 27/100\n",
            "24/24 [==============================] - 0s 4ms/step - loss: 0.3765 - accuracy: 0.8359\n",
            "Epoch 28/100\n",
            "24/24 [==============================] - 0s 5ms/step - loss: 0.4134 - accuracy: 0.8125\n",
            "Epoch 29/100\n",
            "24/24 [==============================] - 0s 8ms/step - loss: 0.3361 - accuracy: 0.8607\n",
            "Epoch 30/100\n",
            "24/24 [==============================] - 0s 5ms/step - loss: 0.3498 - accuracy: 0.8529\n",
            "Epoch 31/100\n",
            "24/24 [==============================] - 0s 8ms/step - loss: 0.3977 - accuracy: 0.8190\n",
            "Epoch 32/100\n",
            "24/24 [==============================] - 0s 9ms/step - loss: 0.3782 - accuracy: 0.8411\n",
            "Epoch 33/100\n",
            "24/24 [==============================] - 0s 11ms/step - loss: 0.3424 - accuracy: 0.8411\n",
            "Epoch 34/100\n",
            "24/24 [==============================] - 0s 7ms/step - loss: 0.3839 - accuracy: 0.8229\n",
            "Epoch 35/100\n",
            "24/24 [==============================] - 0s 5ms/step - loss: 0.3491 - accuracy: 0.8516\n",
            "Epoch 36/100\n",
            "24/24 [==============================] - 0s 4ms/step - loss: 0.3551 - accuracy: 0.8542\n",
            "Epoch 37/100\n",
            "24/24 [==============================] - 0s 5ms/step - loss: 0.3593 - accuracy: 0.8333\n",
            "Epoch 38/100\n",
            "24/24 [==============================] - 0s 5ms/step - loss: 0.3381 - accuracy: 0.8464\n",
            "Epoch 39/100\n",
            "24/24 [==============================] - 0s 8ms/step - loss: 0.4076 - accuracy: 0.8099\n",
            "Epoch 40/100\n",
            "24/24 [==============================] - 0s 5ms/step - loss: 0.3777 - accuracy: 0.8307\n",
            "Epoch 41/100\n",
            "24/24 [==============================] - 0s 10ms/step - loss: 0.3243 - accuracy: 0.8685\n",
            "Epoch 42/100\n",
            "24/24 [==============================] - 0s 6ms/step - loss: 0.3469 - accuracy: 0.8451\n",
            "Epoch 43/100\n",
            "24/24 [==============================] - 0s 6ms/step - loss: 0.3589 - accuracy: 0.8411\n",
            "Epoch 44/100\n",
            "24/24 [==============================] - 0s 6ms/step - loss: 0.3542 - accuracy: 0.8451\n",
            "Epoch 45/100\n",
            "24/24 [==============================] - 0s 7ms/step - loss: 0.3354 - accuracy: 0.8516\n",
            "Epoch 46/100\n",
            "24/24 [==============================] - 0s 4ms/step - loss: 0.3306 - accuracy: 0.8646\n",
            "Epoch 47/100\n",
            "24/24 [==============================] - 0s 9ms/step - loss: 0.3715 - accuracy: 0.8281\n",
            "Epoch 48/100\n",
            "24/24 [==============================] - 0s 4ms/step - loss: 0.3614 - accuracy: 0.8411\n",
            "Epoch 49/100\n",
            "24/24 [==============================] - 0s 5ms/step - loss: 0.3867 - accuracy: 0.8229\n",
            "Epoch 50/100\n",
            "24/24 [==============================] - 0s 5ms/step - loss: 0.4230 - accuracy: 0.8125\n",
            "Epoch 51/100\n",
            "24/24 [==============================] - 0s 6ms/step - loss: 0.3411 - accuracy: 0.8724\n",
            "Epoch 52/100\n",
            "24/24 [==============================] - 0s 5ms/step - loss: 0.3628 - accuracy: 0.8398\n",
            "Epoch 53/100\n",
            "24/24 [==============================] - 0s 6ms/step - loss: 0.3732 - accuracy: 0.8398\n",
            "Epoch 54/100\n",
            "24/24 [==============================] - 0s 6ms/step - loss: 0.3157 - accuracy: 0.8867\n",
            "Epoch 55/100\n",
            "24/24 [==============================] - 0s 5ms/step - loss: 0.3270 - accuracy: 0.8698\n",
            "Epoch 56/100\n",
            "24/24 [==============================] - 0s 4ms/step - loss: 0.3779 - accuracy: 0.8242\n",
            "Epoch 57/100\n",
            "24/24 [==============================] - 0s 5ms/step - loss: 0.3805 - accuracy: 0.8359\n",
            "Epoch 58/100\n",
            "24/24 [==============================] - 0s 5ms/step - loss: 0.3937 - accuracy: 0.8307\n",
            "Epoch 59/100\n",
            "24/24 [==============================] - 0s 4ms/step - loss: 0.3338 - accuracy: 0.8581\n",
            "Epoch 60/100\n",
            "24/24 [==============================] - 0s 4ms/step - loss: 0.3981 - accuracy: 0.8138\n",
            "Epoch 61/100\n",
            "24/24 [==============================] - 0s 4ms/step - loss: 0.3957 - accuracy: 0.8164\n",
            "Epoch 62/100\n",
            "24/24 [==============================] - 0s 7ms/step - loss: 0.3247 - accuracy: 0.8750\n",
            "Epoch 63/100\n",
            "24/24 [==============================] - 0s 7ms/step - loss: 0.4165 - accuracy: 0.8164\n",
            "Epoch 64/100\n",
            "24/24 [==============================] - 0s 5ms/step - loss: 0.3115 - accuracy: 0.8711\n",
            "Epoch 65/100\n",
            "24/24 [==============================] - 0s 5ms/step - loss: 0.3270 - accuracy: 0.8542\n",
            "Epoch 66/100\n",
            "24/24 [==============================] - 0s 4ms/step - loss: 0.3125 - accuracy: 0.8737\n",
            "Epoch 67/100\n",
            "24/24 [==============================] - 0s 4ms/step - loss: 0.3282 - accuracy: 0.8581\n",
            "Epoch 68/100\n",
            "24/24 [==============================] - 0s 8ms/step - loss: 0.3346 - accuracy: 0.8451\n",
            "Epoch 69/100\n",
            "24/24 [==============================] - 0s 6ms/step - loss: 0.3715 - accuracy: 0.8320\n",
            "Epoch 70/100\n",
            "24/24 [==============================] - 0s 5ms/step - loss: 0.3306 - accuracy: 0.8516\n",
            "Epoch 71/100\n",
            "24/24 [==============================] - 0s 6ms/step - loss: 0.3895 - accuracy: 0.8216\n",
            "Epoch 72/100\n",
            "24/24 [==============================] - 0s 6ms/step - loss: 0.3253 - accuracy: 0.8555\n",
            "Epoch 73/100\n",
            "24/24 [==============================] - 0s 6ms/step - loss: 0.3207 - accuracy: 0.8581\n",
            "Epoch 74/100\n",
            "24/24 [==============================] - 0s 5ms/step - loss: 0.3383 - accuracy: 0.8542\n",
            "Epoch 75/100\n",
            "24/24 [==============================] - 0s 8ms/step - loss: 0.3398 - accuracy: 0.8438\n",
            "Epoch 76/100\n",
            "24/24 [==============================] - 0s 4ms/step - loss: 0.3375 - accuracy: 0.8646\n",
            "Epoch 77/100\n",
            "24/24 [==============================] - 0s 4ms/step - loss: 0.3099 - accuracy: 0.8724\n",
            "Epoch 78/100\n",
            "24/24 [==============================] - 0s 4ms/step - loss: 0.3019 - accuracy: 0.8737\n",
            "Epoch 79/100\n",
            "24/24 [==============================] - 0s 4ms/step - loss: 0.3785 - accuracy: 0.8294\n",
            "Epoch 80/100\n",
            "24/24 [==============================] - 0s 4ms/step - loss: 0.3142 - accuracy: 0.8672\n",
            "Epoch 81/100\n",
            "24/24 [==============================] - 0s 4ms/step - loss: 0.3124 - accuracy: 0.8750\n",
            "Epoch 82/100\n",
            "24/24 [==============================] - 0s 4ms/step - loss: 0.3108 - accuracy: 0.8685\n",
            "Epoch 83/100\n",
            "24/24 [==============================] - 0s 4ms/step - loss: 0.3186 - accuracy: 0.8711\n",
            "Epoch 84/100\n",
            "24/24 [==============================] - 0s 6ms/step - loss: 0.3226 - accuracy: 0.8594\n",
            "Epoch 85/100\n",
            "24/24 [==============================] - 0s 4ms/step - loss: 0.3526 - accuracy: 0.8464\n",
            "Epoch 86/100\n",
            "24/24 [==============================] - 0s 6ms/step - loss: 0.4334 - accuracy: 0.8008\n",
            "Epoch 87/100\n",
            "24/24 [==============================] - 0s 4ms/step - loss: 0.3136 - accuracy: 0.8672\n",
            "Epoch 88/100\n",
            "24/24 [==============================] - 0s 4ms/step - loss: 0.3179 - accuracy: 0.8607\n",
            "Epoch 89/100\n",
            "24/24 [==============================] - 0s 4ms/step - loss: 0.3213 - accuracy: 0.8568\n",
            "Epoch 90/100\n",
            "24/24 [==============================] - 0s 6ms/step - loss: 0.3480 - accuracy: 0.8451\n",
            "Epoch 91/100\n",
            "24/24 [==============================] - 0s 4ms/step - loss: 0.3113 - accuracy: 0.8633\n",
            "Epoch 92/100\n",
            "24/24 [==============================] - 0s 5ms/step - loss: 0.2938 - accuracy: 0.8867\n",
            "Epoch 93/100\n",
            "24/24 [==============================] - 0s 4ms/step - loss: 0.3098 - accuracy: 0.8698\n",
            "Epoch 94/100\n",
            "24/24 [==============================] - 0s 5ms/step - loss: 0.2864 - accuracy: 0.8932\n",
            "Epoch 95/100\n",
            "24/24 [==============================] - 0s 5ms/step - loss: 0.3104 - accuracy: 0.8633\n",
            "Epoch 96/100\n",
            "24/24 [==============================] - 0s 5ms/step - loss: 0.3094 - accuracy: 0.8789\n",
            "Epoch 97/100\n",
            "24/24 [==============================] - 0s 4ms/step - loss: 0.3410 - accuracy: 0.8477\n",
            "Epoch 98/100\n",
            "24/24 [==============================] - 0s 5ms/step - loss: 0.3066 - accuracy: 0.8711\n",
            "Epoch 99/100\n",
            "24/24 [==============================] - 0s 4ms/step - loss: 0.3032 - accuracy: 0.8815\n",
            "Epoch 100/100\n",
            "24/24 [==============================] - 0s 4ms/step - loss: 0.3359 - accuracy: 0.8438\n",
            "9/9 [==============================] - 0s 3ms/step\n",
            "[[9.60867226e-01]\n",
            " [9.77925479e-01]\n",
            " [1.21362181e-02]\n",
            " [8.83738577e-01]\n",
            " [3.33758779e-02]\n",
            " [5.95378399e-01]\n",
            " [1.00711621e-02]\n",
            " [1.33735202e-02]\n",
            " [6.76584005e-01]\n",
            " [1.18318610e-02]\n",
            " [9.62369919e-01]\n",
            " [1.98213407e-03]\n",
            " [6.73766255e-01]\n",
            " [9.99902487e-01]\n",
            " [3.43543515e-02]\n",
            " [9.04712021e-01]\n",
            " [7.76347052e-03]\n",
            " [9.98786390e-01]\n",
            " [8.15397680e-01]\n",
            " [1.01911081e-02]\n",
            " [3.89659971e-01]\n",
            " [3.81025709e-02]\n",
            " [1.71770841e-01]\n",
            " [1.25043211e-03]\n",
            " [3.89659971e-01]\n",
            " [9.71940398e-01]\n",
            " [8.32625747e-01]\n",
            " [2.81043082e-01]\n",
            " [2.85975216e-03]\n",
            " [7.31865704e-01]\n",
            " [3.89401317e-01]\n",
            " [2.60877103e-01]\n",
            " [4.34854776e-01]\n",
            " [9.77925479e-01]\n",
            " [8.03214669e-01]\n",
            " [8.37156892e-01]\n",
            " [3.89659971e-01]\n",
            " [2.41766036e-01]\n",
            " [6.47708952e-01]\n",
            " [9.28606570e-01]\n",
            " [1.33735202e-02]\n",
            " [2.30803862e-02]\n",
            " [5.19306302e-01]\n",
            " [1.71770841e-01]\n",
            " [1.08979316e-02]\n",
            " [4.63756733e-03]\n",
            " [3.78238223e-02]\n",
            " [2.17837453e-01]\n",
            " [3.80345494e-01]\n",
            " [3.86869282e-01]\n",
            " [1.71689987e-01]\n",
            " [4.28677909e-03]\n",
            " [6.20935142e-01]\n",
            " [8.84406175e-03]\n",
            " [8.32625747e-01]\n",
            " [6.47708952e-01]\n",
            " [8.06727335e-02]\n",
            " [1.13654481e-02]\n",
            " [7.87045956e-01]\n",
            " [9.60142851e-01]\n",
            " [4.58797634e-01]\n",
            " [6.01954721e-02]\n",
            " [2.85975495e-03]\n",
            " [3.86869222e-01]\n",
            " [4.19724686e-03]\n",
            " [3.73698175e-02]\n",
            " [9.92560983e-01]\n",
            " [2.58928359e-01]\n",
            " [4.63756733e-03]\n",
            " [9.85413074e-01]\n",
            " [5.53215742e-01]\n",
            " [2.85975216e-03]\n",
            " [1.81641012e-01]\n",
            " [8.56700599e-01]\n",
            " [6.58007503e-01]\n",
            " [4.13442671e-01]\n",
            " [1.00711621e-02]\n",
            " [4.69772011e-01]\n",
            " [3.35039675e-01]\n",
            " [7.20027626e-01]\n",
            " [1.07613489e-01]\n",
            " [4.95440513e-02]\n",
            " [1.43927801e-03]\n",
            " [8.72457586e-03]\n",
            " [8.69950235e-01]\n",
            " [1.96222728e-03]\n",
            " [9.62369919e-01]\n",
            " [6.15440048e-02]\n",
            " [1.07613489e-01]\n",
            " [7.31865704e-01]\n",
            " [4.77617085e-01]\n",
            " [1.01911081e-02]\n",
            " [9.75664794e-01]\n",
            " [8.29348683e-01]\n",
            " [8.17867219e-01]\n",
            " [6.67917311e-01]\n",
            " [2.58928359e-01]\n",
            " [1.65393967e-02]\n",
            " [7.02006510e-04]\n",
            " [1.79565270e-02]\n",
            " [9.92633879e-01]\n",
            " [2.42642239e-02]\n",
            " [5.29770076e-01]\n",
            " [6.15920246e-01]\n",
            " [3.76818068e-02]\n",
            " [9.07591522e-01]\n",
            " [1.13654481e-02]\n",
            " [6.08777404e-01]\n",
            " [1.42295331e-01]\n",
            " [9.07801390e-01]\n",
            " [7.87045956e-01]\n",
            " [9.07801390e-01]\n",
            " [9.87048864e-01]\n",
            " [3.23459916e-02]\n",
            " [7.51360655e-01]\n",
            " [9.33107972e-01]\n",
            " [5.76156855e-01]\n",
            " [7.58149266e-01]\n",
            " [7.92375326e-01]\n",
            " [5.22413466e-04]\n",
            " [6.70632601e-01]\n",
            " [5.14817536e-01]\n",
            " [2.28657597e-03]\n",
            " [7.24709481e-02]\n",
            " [5.03324568e-02]\n",
            " [1.25043211e-03]\n",
            " [6.89312756e-01]\n",
            " [5.75368226e-01]\n",
            " [5.53215742e-01]\n",
            " [7.86149204e-01]\n",
            " [2.60877103e-01]\n",
            " [7.02006510e-04]\n",
            " [9.84111011e-01]\n",
            " [9.92633879e-01]\n",
            " [7.73990946e-03]\n",
            " [9.92644906e-01]\n",
            " [2.74639810e-03]\n",
            " [5.14817536e-01]\n",
            " [9.92644906e-01]\n",
            " [5.76156855e-01]\n",
            " [4.28150535e-01]\n",
            " [8.61152232e-01]\n",
            " [9.10787404e-01]\n",
            " [2.86691636e-02]\n",
            " [4.99853909e-01]\n",
            " [8.31104040e-01]\n",
            " [1.71689987e-01]\n",
            " [8.66782248e-01]\n",
            " [4.89608884e-01]\n",
            " [1.55838225e-02]\n",
            " [4.34854776e-01]\n",
            " [4.63756733e-03]\n",
            " [6.01890802e-01]\n",
            " [4.28150535e-01]\n",
            " [7.69236013e-02]\n",
            " [3.82394865e-02]\n",
            " [7.82099545e-01]\n",
            " [7.86149204e-01]\n",
            " [6.22534472e-03]\n",
            " [2.30803862e-02]\n",
            " [5.19306302e-01]\n",
            " [9.72265005e-01]\n",
            " [2.42642239e-02]\n",
            " [2.42642239e-02]\n",
            " [7.05099851e-02]\n",
            " [7.01943412e-02]\n",
            " [6.05532415e-02]\n",
            " [4.69177635e-03]\n",
            " [6.17429987e-02]\n",
            " [8.66782248e-01]\n",
            " [1.81641012e-01]\n",
            " [4.41023856e-01]\n",
            " [9.77083445e-01]\n",
            " [9.47704888e-04]\n",
            " [8.17831337e-01]\n",
            " [9.77925479e-01]\n",
            " [9.97678936e-01]\n",
            " [6.62483973e-04]\n",
            " [5.29770076e-01]\n",
            " [9.32979703e-01]\n",
            " [9.69002843e-01]\n",
            " [5.47062652e-03]\n",
            " [6.18623435e-01]\n",
            " [6.20935142e-01]\n",
            " [4.46706384e-01]\n",
            " [7.92375326e-01]\n",
            " [8.03214669e-01]\n",
            " [7.87045956e-01]\n",
            " [6.17462516e-01]\n",
            " [9.28966761e-01]\n",
            " [9.46792960e-01]\n",
            " [3.35039914e-01]\n",
            " [6.62447453e-01]\n",
            " [6.20935142e-01]\n",
            " [1.13654481e-02]\n",
            " [7.67321140e-02]\n",
            " [8.25603068e-01]\n",
            " [3.89047223e-03]\n",
            " [9.51097727e-01]\n",
            " [9.62610662e-01]\n",
            " [2.84285992e-01]\n",
            " [6.63720369e-01]\n",
            " [9.62610662e-01]\n",
            " [2.17328388e-02]\n",
            " [1.86358243e-01]\n",
            " [6.67290092e-02]\n",
            " [3.29105735e-01]\n",
            " [9.53541577e-01]\n",
            " [4.85124379e-01]\n",
            " [5.14817536e-01]\n",
            " [6.63720369e-01]\n",
            " [5.90450764e-02]\n",
            " [9.98488784e-01]\n",
            " [4.77617085e-01]\n",
            " [3.82394865e-02]\n",
            " [7.26238862e-02]\n",
            " [3.11709523e-01]\n",
            " [6.05532415e-02]\n",
            " [4.21994776e-01]\n",
            " [7.73990946e-03]\n",
            " [5.37871659e-01]\n",
            " [1.43927801e-03]\n",
            " [1.79565046e-02]\n",
            " [9.49430823e-01]\n",
            " [7.15995729e-01]\n",
            " [7.24250078e-01]\n",
            " [7.58149266e-01]\n",
            " [4.58930701e-01]\n",
            " [1.98213407e-03]\n",
            " [6.70632601e-01]\n",
            " [6.62447453e-01]\n",
            " [2.10888058e-01]\n",
            " [5.24719238e-01]\n",
            " [7.82099545e-01]\n",
            " [1.55838225e-02]\n",
            " [1.00711621e-02]\n",
            " [1.66664273e-01]\n",
            " [6.38732240e-02]\n",
            " [9.29601133e-01]\n",
            " [2.30685070e-01]\n",
            " [2.27817476e-01]\n",
            " [2.36274585e-01]\n",
            " [9.98269558e-01]\n",
            " [5.04241623e-02]\n",
            " [4.11307346e-03]\n",
            " [6.08777404e-01]\n",
            " [1.25141246e-02]\n",
            " [9.92633879e-01]\n",
            " [8.00628066e-01]\n",
            " [4.52137627e-02]\n",
            " [8.56700599e-01]\n",
            " [1.18318610e-02]\n",
            " [2.49152690e-01]\n",
            " [6.62483973e-04]\n",
            " [7.24710077e-02]\n",
            " [9.54431832e-01]\n",
            " [1.10299271e-02]]\n"
          ]
        }
      ],
      "source": [
        "model.compile(optimizer='adam',\n",
        "              loss='binary_crossentropy',\n",
        "              metrics=['accuracy'])\n",
        "model.fit(x_train,y_train, epochs=100)\n",
        "print(model.predict(x_test))"
      ]
    },
    {
      "cell_type": "code",
      "execution_count": null,
      "metadata": {
        "id": "4Lvu72vHr0yl",
        "outputId": "144a2d37-dabd-457d-ecc4-835390d355a5"
      },
      "outputs": [
        {
          "name": "stdout",
          "output_type": "stream",
          "text": [
            "9/9 [==============================] - 0s 692us/step - loss: 0.4055 - accuracy: 0.8132\n",
            "Loss : 40.55%\n",
            "Accuracy : 81.32%\n"
          ]
        }
      ],
      "source": [
        "loss, accuracy = model.evaluate(x_test, y_test)\n",
        "print(f\"Loss : {loss * 100:.2f}%\")\n",
        "print(f\"Accuracy : {accuracy * 100:.2f}%\")"
      ]
    }
  ],
  "metadata": {
    "kernelspec": {
      "display_name": "base",
      "language": "python",
      "name": "python3"
    },
    "language_info": {
      "codemirror_mode": {
        "name": "ipython",
        "version": 3
      },
      "file_extension": ".py",
      "mimetype": "text/x-python",
      "name": "python",
      "nbconvert_exporter": "python",
      "pygments_lexer": "ipython3",
      "version": "3.11.3"
    },
    "orig_nbformat": 4,
    "colab": {
      "provenance": []
    }
  },
  "nbformat": 4,
  "nbformat_minor": 0
}